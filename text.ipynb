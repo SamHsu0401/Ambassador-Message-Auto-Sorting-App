{
 "cells": [
  {
   "cell_type": "code",
   "execution_count": 1,
   "metadata": {},
   "outputs": [],
   "source": [
    "import pandas as pd"
   ]
  },
  {
   "cell_type": "code",
   "execution_count": 9,
   "metadata": {},
   "outputs": [],
   "source": [
    "df = pd.read_json(\"data_index.json\")"
   ]
  },
  {
   "cell_type": "code",
   "execution_count": 12,
   "metadata": {},
   "outputs": [
    {
     "name": "stdout",
     "output_type": "stream",
     "text": [
      "DataFrame saved to data_index.json with pretty-printed JSON.\n"
     ]
    }
   ],
   "source": [
    "json_str = df.to_json(orient='index', indent=4)\n",
    "\n",
    "# Write the pretty-printed JSON to a file\n",
    "with open('data_index.json', 'w') as file:\n",
    "    file.write(json_str)\n",
    "\n",
    "print(\"DataFrame saved to data_index.json with pretty-printed JSON.\")"
   ]
  }
 ],
 "metadata": {
  "kernelspec": {
   "display_name": "env",
   "language": "python",
   "name": "python3"
  },
  "language_info": {
   "codemirror_mode": {
    "name": "ipython",
    "version": 3
   },
   "file_extension": ".py",
   "mimetype": "text/x-python",
   "name": "python",
   "nbconvert_exporter": "python",
   "pygments_lexer": "ipython3",
   "version": "3.11.4"
  }
 },
 "nbformat": 4,
 "nbformat_minor": 2
}
